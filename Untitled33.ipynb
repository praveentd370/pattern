{
 "cells": [
  {
   "cell_type": "code",
   "execution_count": null,
   "id": "23e0f084",
   "metadata": {},
   "outputs": [],
   "source": [
    "1)Write a Python Program to print half pyramid using alphabets. The pattern should be as shown below:\n",
    "\n",
    "A\n",
    "\n",
    "B B\n",
    "\n",
    "C C C\n",
    "\n",
    "D D D D\n",
    "\n",
    "E E E E E"
   ]
  },
  {
   "cell_type": "code",
   "execution_count": 22,
   "id": "c3fb2a85",
   "metadata": {},
   "outputs": [
    {
     "name": "stdout",
     "output_type": "stream",
     "text": [
      "\n",
      "1 \n",
      "2 2 \n",
      "3 3 3 \n",
      "4 4 4 4 \n",
      "5 5 5 5 5 \n"
     ]
    }
   ],
   "source": [
    "n=5\n",
    "for i in range(n+1):\n",
    "    for j in range(i):\n",
    "        print(i,end=' ')\n",
    "    print('')        \n",
    "            \n",
    "    "
   ]
  },
  {
   "cell_type": "code",
   "execution_count": null,
   "id": "8bf04cac",
   "metadata": {},
   "outputs": [],
   "source": []
  },
  {
   "cell_type": "code",
   "execution_count": null,
   "id": "4344f583",
   "metadata": {},
   "outputs": [],
   "source": []
  }
 ],
 "metadata": {
  "kernelspec": {
   "display_name": "Python 3 (ipykernel)",
   "language": "python",
   "name": "python3"
  },
  "language_info": {
   "codemirror_mode": {
    "name": "ipython",
    "version": 3
   },
   "file_extension": ".py",
   "mimetype": "text/x-python",
   "name": "python",
   "nbconvert_exporter": "python",
   "pygments_lexer": "ipython3",
   "version": "3.9.12"
  }
 },
 "nbformat": 4,
 "nbformat_minor": 5
}
